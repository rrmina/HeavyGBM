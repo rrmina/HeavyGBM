{
 "cells": [
  {
   "cell_type": "code",
   "execution_count": 1,
   "metadata": {},
   "outputs": [],
   "source": [
    "%load_ext autoreload\n",
    "%autoreload 2\n",
    "\n",
    "import numpy as np\n",
    "from DecisionTreeClassifier import DecisionTreeClassifier\n",
    "from DecisionTreeRegressor import DecisionTreeRegressor"
   ]
  },
  {
   "cell_type": "markdown",
   "metadata": {},
   "source": [
    "# Iris Dataset | Classification"
   ]
  },
  {
   "cell_type": "code",
   "execution_count": 14,
   "metadata": {},
   "outputs": [
    {
     "name": "stdout",
     "output_type": "stream",
     "text": [
      "Features: ['sepal length (cm)', 'sepal width (cm)', 'petal length (cm)', 'petal width (cm)']\n",
      "Target labels: ['setosa' 'versicolor' 'virginica']\n"
     ]
    }
   ],
   "source": [
    "from sklearn.datasets import load_iris\n",
    "\n",
    "iris = load_iris()\n",
    "\n",
    "X = iris.data\n",
    "y = iris.target\n",
    "\n",
    "feature_names = iris.feature_names\n",
    "target_names = iris.target_names\n",
    "\n",
    "print(\"Features:\", feature_names)\n",
    "print(\"Target labels:\", target_names)\n",
    "\n",
    "from sklearn.model_selection import train_test_split\n",
    "X_train, X_test, y_train, y_test = train_test_split(\n",
    "    X, y, test_size=0.2, random_state=42\n",
    ")"
   ]
  },
  {
   "cell_type": "code",
   "execution_count": 19,
   "metadata": {},
   "outputs": [],
   "source": [
    "decision_tree = DecisionTreeClassifier(\n",
    "    min_samples_per_node=5,\n",
    "    max_depth=3,\n",
    "    impurity_measure='entropy',\n",
    "    num_targets=3\n",
    ")\n",
    "\n",
    "wawa = decision_tree.build_tree(X_train, y_train)"
   ]
  },
  {
   "cell_type": "code",
   "execution_count": 20,
   "metadata": {},
   "outputs": [],
   "source": [
    "# wawa.visualize_decision_nodes()"
   ]
  },
  {
   "cell_type": "code",
   "execution_count": 21,
   "metadata": {},
   "outputs": [
    {
     "name": "stdout",
     "output_type": "stream",
     "text": [
      "1 1\n",
      "0 0\n",
      "2 2\n",
      "1 1\n",
      "1 1\n",
      "0 0\n",
      "1 1\n",
      "2 2\n",
      "1 1\n",
      "1 1\n",
      "2 2\n",
      "0 0\n",
      "0 0\n",
      "0 0\n",
      "0 0\n",
      "1 1\n",
      "2 2\n",
      "1 1\n",
      "1 1\n",
      "2 2\n",
      "0 0\n",
      "2 2\n",
      "0 0\n",
      "2 2\n",
      "2 2\n",
      "2 2\n",
      "2 2\n",
      "2 2\n",
      "0 0\n",
      "0 0\n"
     ]
    }
   ],
   "source": [
    "for inde in range(X_test.shape[0]):\n",
    "    print(wawa.predict(X_test[inde]), y_test[inde])"
   ]
  },
  {
   "cell_type": "markdown",
   "metadata": {},
   "source": [
    "# Breast Cancer Dataset | Classification"
   ]
  },
  {
   "cell_type": "code",
   "execution_count": 15,
   "metadata": {},
   "outputs": [
    {
     "name": "stdout",
     "output_type": "stream",
     "text": [
      "['malignant' 'benign']\n"
     ]
    }
   ],
   "source": [
    "from sklearn.datasets import load_breast_cancer\n",
    "cancer = load_breast_cancer(as_frame=True)\n",
    "X, y = cancer.data.to_numpy(), cancer.target.to_numpy()\n",
    "# print(X.head())  # Display first few rows\n",
    "\n",
    "from sklearn.model_selection import train_test_split\n",
    "X_train, X_test, y_train, y_test = train_test_split(\n",
    "    X, y, test_size=0.2, random_state=42\n",
    ")\n",
    "\n",
    "print(cancer.target_names)  # Display target classes"
   ]
  },
  {
   "cell_type": "code",
   "execution_count": 16,
   "metadata": {},
   "outputs": [],
   "source": [
    "decision_tree = DecisionTreeClassifier(\n",
    "    min_samples_per_node=5,\n",
    "    max_depth=10,\n",
    "    impurity_measure='entropy',\n",
    "    num_targets=2\n",
    ")"
   ]
  },
  {
   "cell_type": "code",
   "execution_count": 17,
   "metadata": {},
   "outputs": [
    {
     "name": "stdout",
     "output_type": "stream",
     "text": [
      "Stopping with min_samples_per_node:  1\n",
      "Stopping with min_samples_per_node:  1\n",
      "Stopping with min_samples_per_node:  1\n",
      "Stopping with min_samples_per_node:  1\n",
      "Stopping with min_samples_per_node:  1\n",
      "Stopping with min_samples_per_node:  1\n",
      "Stopping with max_depth:  10\n",
      "Stopping with max_depth:  10\n",
      "Stopping with min_samples_per_node:  1\n",
      "Stopping with min_samples_per_node:  1\n",
      "Stopping with min_samples_per_node:  1\n",
      "Stopping with min_samples_per_node:  1\n",
      "Stopping with min_samples_per_node:  1\n",
      "Stopping with max_depth:  10\n",
      "Stopping with max_depth:  10\n",
      "Stopping with min_samples_per_node:  4\n",
      "Stopping with min_samples_per_node:  1\n",
      "Stopping with min_samples_per_node:  5\n",
      "Stopping with min_samples_per_node:  3\n",
      "Stopping with min_samples_per_node:  1\n",
      "Stopping with min_samples_per_node:  5\n",
      "Stopping with min_samples_per_node:  1\n",
      "Stopping with min_samples_per_node:  2\n",
      "Stopping with min_samples_per_node:  1\n",
      "Stopping with min_samples_per_node:  1\n",
      "Stopping with min_samples_per_node:  1\n",
      "Stopping with min_samples_per_node:  5\n",
      "Stopping with min_samples_per_node:  2\n",
      "Stopping with min_samples_per_node:  1\n",
      "Stopping with min_samples_per_node:  1\n",
      "Stopping with min_samples_per_node:  1\n",
      "Stopping with min_samples_per_node:  1\n",
      "Stopping with min_samples_per_node:  1\n",
      "Stopping with min_samples_per_node:  1\n",
      "Stopping with max_depth:  10\n",
      "Stopping with max_depth:  10\n",
      "Stopping with min_samples_per_node:  2\n",
      "Stopping with min_samples_per_node:  2\n",
      "Stopping with min_samples_per_node:  1\n",
      "Stopping with min_samples_per_node:  1\n",
      "Stopping with min_samples_per_node:  1\n",
      "Stopping with min_samples_per_node:  1\n",
      "Stopping with min_samples_per_node:  1\n",
      "Stopping with min_samples_per_node:  1\n",
      "Stopping with max_depth:  10\n",
      "Stopping with max_depth:  10\n",
      "Stopping with min_samples_per_node:  1\n",
      "Stopping with min_samples_per_node:  1\n",
      "Stopping with min_samples_per_node:  2\n",
      "Stopping with min_samples_per_node:  1\n",
      "Stopping with min_samples_per_node:  1\n",
      "Stopping with min_samples_per_node:  1\n",
      "Stopping with min_samples_per_node:  1\n",
      "Stopping with min_samples_per_node:  1\n",
      "Stopping with max_depth:  10\n",
      "Stopping with max_depth:  10\n"
     ]
    }
   ],
   "source": [
    "wawa = decision_tree.build_tree(X_train, y_train)"
   ]
  },
  {
   "cell_type": "code",
   "execution_count": 20,
   "metadata": {},
   "outputs": [
    {
     "name": "stdout",
     "output_type": "stream",
     "text": [
      "1 1\n",
      "0 0\n",
      "0 0\n",
      "1 1\n",
      "1 1\n",
      "0 0\n",
      "0 0\n",
      "0 0\n",
      "0 1\n",
      "1 1\n",
      "1 1\n",
      "0 0\n",
      "1 1\n",
      "1 0\n",
      "1 1\n",
      "0 0\n",
      "1 1\n",
      "1 1\n",
      "1 1\n",
      "0 0\n",
      "1 0\n",
      "1 1\n",
      "0 0\n",
      "1 1\n",
      "1 1\n",
      "1 1\n",
      "1 1\n",
      "1 1\n",
      "1 1\n",
      "0 0\n",
      "1 1\n",
      "1 1\n",
      "0 1\n",
      "1 1\n",
      "1 1\n",
      "1 1\n",
      "0 0\n",
      "1 1\n",
      "0 0\n",
      "1 1\n",
      "1 1\n",
      "0 0\n",
      "1 1\n",
      "1 1\n",
      "1 1\n",
      "1 1\n",
      "1 1\n",
      "1 1\n",
      "1 1\n",
      "1 1\n",
      "0 0\n",
      "0 0\n",
      "0 1\n",
      "1 1\n",
      "1 1\n",
      "1 1\n",
      "1 1\n",
      "0 0\n",
      "0 0\n",
      "1 1\n",
      "1 1\n",
      "0 0\n",
      "0 0\n",
      "1 1\n",
      "1 1\n",
      "1 1\n",
      "0 0\n",
      "0 0\n",
      "1 1\n",
      "1 1\n",
      "0 0\n",
      "0 0\n",
      "1 1\n",
      "0 0\n",
      "1 1\n",
      "1 1\n",
      "1 1\n",
      "1 0\n",
      "1 1\n",
      "1 1\n",
      "0 0\n",
      "1 1\n",
      "1 0\n",
      "0 0\n",
      "0 0\n",
      "0 0\n",
      "0 0\n",
      "0 0\n",
      "1 1\n",
      "1 1\n",
      "1 1\n",
      "1 1\n",
      "1 1\n",
      "1 1\n",
      "1 1\n",
      "1 1\n",
      "0 0\n",
      "0 0\n",
      "1 1\n",
      "0 0\n",
      "0 0\n",
      "1 1\n",
      "0 0\n",
      "0 0\n",
      "1 1\n",
      "1 1\n",
      "1 1\n",
      "0 0\n",
      "0 1\n",
      "1 1\n",
      "0 0\n",
      "1 1\n",
      "1 1\n",
      "0 0\n"
     ]
    }
   ],
   "source": [
    "for inde in range(X_test.shape[0]):\n",
    "    print(wawa.predict(X_test[inde]), y_test[inde])"
   ]
  },
  {
   "cell_type": "markdown",
   "metadata": {},
   "source": [
    "# Diabetes Dataset | Regression"
   ]
  },
  {
   "cell_type": "code",
   "execution_count": 2,
   "metadata": {},
   "outputs": [],
   "source": [
    "from sklearn.datasets import load_diabetes\n",
    "diabetes = load_diabetes(as_frame=True)\n",
    "X, y = diabetes.data.to_numpy(), diabetes.target.to_numpy()\n",
    "\n",
    "from sklearn.model_selection import train_test_split\n",
    "X_train, X_test, y_train, y_test = train_test_split(\n",
    "    X, y, test_size=0.2, random_state=42\n",
    ")\n"
   ]
  },
  {
   "cell_type": "code",
   "execution_count": 9,
   "metadata": {},
   "outputs": [],
   "source": [
    "decision_tree = DecisionTreeRegressor(\n",
    "    min_samples_per_node=5,\n",
    "    max_depth=7,\n",
    "    impurity_measure='variance',\n",
    "    # num_targets=2\n",
    ")"
   ]
  },
  {
   "cell_type": "code",
   "execution_count": 10,
   "metadata": {},
   "outputs": [],
   "source": [
    "wawa = decision_tree.build_tree(X_train, y_train)"
   ]
  },
  {
   "cell_type": "code",
   "execution_count": 11,
   "metadata": {},
   "outputs": [
    {
     "name": "stdout",
     "output_type": "stream",
     "text": [
      "188.8 219.0\n",
      "189.75 70.0\n",
      "188.8 202.0\n",
      "220.88888888888889 230.0\n",
      "108.76 111.0\n",
      "89.2 84.0\n",
      "237.66666666666666 242.0\n",
      "220.88888888888889 272.0\n",
      "195.0 94.0\n",
      "194.72727272727272 96.0\n",
      "105.71428571428571 94.0\n",
      "258.8 252.0\n",
      "71.3125 99.0\n",
      "264.8421052631579 297.0\n",
      "108.76 135.0\n",
      "127.6 67.0\n",
      "264.8421052631579 295.0\n",
      "169.33333333333334 264.0\n",
      "268.3333333333333 170.0\n",
      "160.2 275.0\n",
      "119.71428571428571 310.0\n",
      "62.0 64.0\n",
      "49.2 128.0\n",
      "194.72727272727272 232.0\n",
      "119.71428571428571 129.0\n",
      "194.72727272727272 118.0\n",
      "268.3333333333333 263.0\n",
      "108.76 77.0\n",
      "49.2 48.0\n",
      "108.76 107.0\n",
      "292.5 140.0\n",
      "49.2 113.0\n",
      "194.72727272727272 90.0\n",
      "258.8 164.0\n",
      "119.71428571428571 180.0\n",
      "169.33333333333334 233.0\n",
      "74.75 42.0\n",
      "125.5 84.0\n",
      "188.8 172.0\n",
      "77.0 63.0\n",
      "49.2 48.0\n",
      "87.75 108.0\n",
      "160.55555555555554 156.0\n",
      "126.8 168.0\n",
      "188.8 90.0\n",
      "77.0 52.0\n",
      "31.0 200.0\n",
      "136.25 87.0\n",
      "49.2 90.0\n",
      "195.0 258.0\n",
      "127.6 136.0\n",
      "77.0 158.0\n",
      "163.33333333333334 69.0\n",
      "136.25 72.0\n",
      "256.3333333333333 171.0\n",
      "127.6 95.0\n",
      "42.0 72.0\n",
      "189.75 151.0\n",
      "42.0 168.0\n",
      "54.2 60.0\n",
      "112.33333333333333 122.0\n",
      "119.71428571428571 52.0\n",
      "127.6 187.0\n",
      "87.75 102.0\n",
      "151.2 214.0\n",
      "236.0 248.0\n",
      "92.0 181.0\n",
      "188.8 110.0\n",
      "160.55555555555554 140.0\n",
      "195.0 202.0\n",
      "195.0 101.0\n",
      "268.3333333333333 222.0\n",
      "188.8 281.0\n",
      "108.76 61.0\n",
      "69.4 89.0\n",
      "256.3333333333333 91.0\n",
      "220.88888888888889 186.0\n",
      "189.75 220.0\n",
      "194.72727272727272 237.0\n",
      "256.3333333333333 233.0\n",
      "49.2 68.0\n",
      "108.76 190.0\n",
      "54.2 96.0\n",
      "49.2 72.0\n",
      "65.57142857142857 153.0\n",
      "49.2 98.0\n",
      "71.3125 37.0\n",
      "71.3125 63.0\n",
      "119.71428571428571 184.0\n"
     ]
    }
   ],
   "source": [
    "for inde in range(X_test.shape[0]):\n",
    "    print(wawa.predict(X_test[inde]), y_test[inde])"
   ]
  },
  {
   "cell_type": "markdown",
   "metadata": {},
   "source": [
    "# Sine Wave | Regression\n",
    "\n",
    "Reference: https://colab.research.google.com/drive/1YY7xaI1rRuVcrS-sCFTnMX5rPf2qFS8v#scrollTo=k-_xGd4vXcjN"
   ]
  },
  {
   "cell_type": "code",
   "execution_count": 15,
   "metadata": {},
   "outputs": [
    {
     "data": {
      "image/png": "[encoded data removed]",
      "text/plain": [
       "<Figure size 640x480 with 1 Axes>"
      ]
     },
     "metadata": {},
     "output_type": "display_data"
    }
   ],
   "source": [
    "np.random.seed(0)\n",
    "import matplotlib.pyplot as plt\n",
    "\n",
    "n_samples = 150\n",
    "\n",
    "X = np.sort(5 * np.random.rand(n_samples, 1), axis=0)\n",
    "y = np.sin(X).ravel()\n",
    "y += np.random.randn(n_samples)*0.1\n",
    "\n",
    "plt.figure()\n",
    "plt.scatter(X, y, color='blue', label='data')\n",
    "plt.title('Sample 2D Data Points with Real-valued Labels')\n",
    "plt.xlabel('X')\n",
    "plt.ylabel('y')\n",
    "plt.legend()\n",
    "plt.show()"
   ]
  },
  {
   "cell_type": "code",
   "execution_count": 16,
   "metadata": {},
   "outputs": [],
   "source": [
    "X_train, X_test, y_train, y_test = train_test_split(X, y, test_size=0.4, random_state=42)"
   ]
  },
  {
   "cell_type": "code",
   "execution_count": 46,
   "metadata": {},
   "outputs": [],
   "source": [
    "decision_tree_with_depth3 = DecisionTreeRegressor(\n",
    "    min_samples_per_node=5,\n",
    "    max_depth=3,\n",
    "    impurity_measure='variance'\n",
    ").build_tree(X_train, y_train)\n",
    "\n",
    "decision_tree_with_depth10 = DecisionTreeRegressor(\n",
    "    min_samples_per_node=5,\n",
    "    max_depth=10,\n",
    "    impurity_measure='variance'\n",
    ").build_tree(X_train, y_train)"
   ]
  },
  {
   "cell_type": "code",
   "execution_count": 47,
   "metadata": {},
   "outputs": [
    {
     "data": {
      "image/png": "[encoded data removed]",
      "text/plain": [
       "<Figure size 640x480 with 1 Axes>"
      ]
     },
     "metadata": {},
     "output_type": "display_data"
    }
   ],
   "source": [
    "X_grid = np.arange(0, 5, 0.01)[:, np.newaxis]\n",
    "y_pred_depth3, y_pred_depth7 = [], []\n",
    "for x in X_grid:\n",
    "    y_pred_depth3.append(decision_tree_with_depth3.predict(x))\n",
    "    y_pred_depth7.append(decision_tree_with_depth10.predict(x))\n",
    "\n",
    "y_pred_depth3 = np.array(y_pred_depth3)\n",
    "y_pred_depth7 = np.array(y_pred_depth7)\n",
    "\n",
    "plt.figure()\n",
    "plt.scatter(X_train, y_train, color='blue', label='train data')\n",
    "plt.scatter(X_test, y_test, color='green', label='test data')\n",
    "plt.plot(X_grid, y_pred_depth3, color='red', label='regression tree - depth 3')\n",
    "plt.plot(X_grid, y_pred_depth7, color='orange', label='regression tree - depth 7')\n",
    "plt.title('Regression Tree')\n",
    "plt.xlabel('X')\n",
    "plt.ylabel('y')\n",
    "plt.legend()\n",
    "plt.show()"
   ]
  },
  {
   "cell_type": "code",
   "execution_count": null,
   "metadata": {},
   "outputs": [],
   "source": []
  }
 ],
 "metadata": {
  "kernelspec": {
   "display_name": "base",
   "language": "python",
   "name": "python3"
  },
  "language_info": {
   "codemirror_mode": {
    "name": "ipython",
    "version": 3
   },
   "file_extension": ".py",
   "mimetype": "text/x-python",
   "name": "python",
   "nbconvert_exporter": "python",
   "pygments_lexer": "ipython3",
   "version": "3.12.4"
  }
 },
 "nbformat": 4,
 "nbformat_minor": 2
}
