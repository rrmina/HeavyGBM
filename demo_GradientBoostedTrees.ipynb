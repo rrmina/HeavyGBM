{
 "cells": [
  {
   "cell_type": "code",
   "execution_count": 7,
   "metadata": {},
   "outputs": [
    {
     "name": "stdout",
     "output_type": "stream",
     "text": [
      "The autoreload extension is already loaded. To reload it, use:\n",
      "  %reload_ext autoreload\n"
     ]
    }
   ],
   "source": [
    "%load_ext autoreload\n",
    "%autoreload 2\n",
    "\n",
    "import numpy as np\n",
    "from GradientBoostedTreesRegressor import GradientBoostedTreesRegressor"
   ]
  },
  {
   "cell_type": "markdown",
   "metadata": {},
   "source": [
    "# Iris Dataset | Classification"
   ]
  },
  {
   "cell_type": "code",
   "execution_count": 8,
   "metadata": {},
   "outputs": [
    {
     "name": "stdout",
     "output_type": "stream",
     "text": [
      "Features: ['sepal length (cm)', 'sepal width (cm)', 'petal length (cm)', 'petal width (cm)']\n",
      "Target labels: ['setosa' 'versicolor' 'virginica']\n"
     ]
    }
   ],
   "source": [
    "from sklearn.datasets import load_iris\n",
    "\n",
    "iris = load_iris()\n",
    "\n",
    "X = iris.data\n",
    "y = iris.target\n",
    "\n",
    "feature_names = iris.feature_names\n",
    "target_names = iris.target_names\n",
    "\n",
    "print(\"Features:\", feature_names)\n",
    "print(\"Target labels:\", target_names)\n",
    "\n",
    "from sklearn.model_selection import train_test_split\n",
    "X_train, X_test, y_train, y_test = train_test_split(\n",
    "    X, y, test_size=0.2, random_state=42\n",
    ")"
   ]
  },
  {
   "cell_type": "code",
   "execution_count": 14,
   "metadata": {},
   "outputs": [],
   "source": [
    "random_forest = GradientBoostedTreesRegressor(\n",
    "    num_trees=10,\n",
    "    learning_rate=1e-3,\n",
    "    min_samples_per_node=5,\n",
    "    max_depth=5,\n",
    "    impurity_measure='variance',\n",
    "    num_targets=3\n",
    ")\n",
    "\n",
    "wawa = random_forest.build_forest(X_train, y_train)"
   ]
  },
  {
   "cell_type": "code",
   "execution_count": 15,
   "metadata": {},
   "outputs": [
    {
     "name": "stdout",
     "output_type": "stream",
     "text": [
      "1.008954880330461 1\n",
      "0.0 0\n",
      "2.017909760660922 2\n",
      "1.008954880330461 1\n",
      "1.010739856440553 1\n",
      "0.0 0\n",
      "1.008954880330461 1\n",
      "2.017909760660922 2\n",
      "1.008954880330461 1\n",
      "1.008954880330461 1\n",
      "2.017909760660922 2\n",
      "0.0 0\n",
      "0.0 0\n",
      "0.0 0\n",
      "0.0 0\n",
      "1.008954880330461 1\n",
      "2.017909760660922 2\n",
      "1.008954880330461 1\n",
      "1.008954880330461 1\n",
      "2.017909760660922 2\n",
      "0.0 0\n",
      "2.017909760660922 2\n",
      "0.0 0\n",
      "2.017909760660922 2\n",
      "2.017909760660922 2\n",
      "2.017909760660922 2\n",
      "2.017909760660922 2\n",
      "2.017909760660922 2\n",
      "0.0 0\n",
      "0.0 0\n"
     ]
    }
   ],
   "source": [
    "for inde in range(X_test.shape[0]):\n",
    "    print(wawa.predict(X_test[inde]), y_test[inde])"
   ]
  },
  {
   "cell_type": "markdown",
   "metadata": {},
   "source": [
    "# Diabetes Dataset | Regression"
   ]
  },
  {
   "cell_type": "code",
   "execution_count": 16,
   "metadata": {},
   "outputs": [],
   "source": [
    "from sklearn.datasets import load_diabetes\n",
    "diabetes = load_diabetes(as_frame=True)\n",
    "X, y = diabetes.data.to_numpy(), diabetes.target.to_numpy()\n",
    "\n",
    "from sklearn.model_selection import train_test_split\n",
    "X_train, X_test, y_train, y_test = train_test_split(\n",
    "    X, y, test_size=0.2, random_state=42\n",
    ")"
   ]
  },
  {
   "cell_type": "code",
   "execution_count": 27,
   "metadata": {},
   "outputs": [],
   "source": [
    "random_forest = GradientBoostedTreesRegressor(\n",
    "    num_trees=100,\n",
    "    learning_rate=1e-3,\n",
    "    min_samples_per_node=5,\n",
    "    max_depth=np.inf,\n",
    "    loss_measure='mse',\n",
    "    impurity_measure='variance',\n",
    "    # num_targets=2\n",
    ")"
   ]
  },
  {
   "cell_type": "code",
   "execution_count": 28,
   "metadata": {},
   "outputs": [],
   "source": [
    "wawa = random_forest.build_forest(X_train, y_train)"
   ]
  },
  {
   "cell_type": "code",
   "execution_count": 29,
   "metadata": {},
   "outputs": [
    {
     "name": "stdout",
     "output_type": "stream",
     "text": [
      "204.53879239908102 219.0\n",
      "136.299712432006 70.0\n",
      "205.14518993511768 202.0\n",
      "168.24179220747348 230.0\n",
      "199.3699876708326 111.0\n",
      "99.90899210648621 84.0\n",
      "258.62717154366146 242.0\n",
      "279.04385896168793 272.0\n",
      "212.82313621525788 94.0\n",
      "187.60087756971092 96.0\n",
      "102.83485608677526 94.0\n",
      "281.79050491434657 252.0\n",
      "78.76025717536587 99.0\n",
      "242.0237069451346 297.0\n",
      "87.30333385619355 135.0\n",
      "135.6661406459052 67.0\n",
      "336.554247096586 295.0\n",
      "192.13819379338895 264.0\n",
      "303.48661307482763 170.0\n",
      "175.73156815270679 275.0\n",
      "181.59536506231638 310.0\n",
      "69.92265594283283 64.0\n",
      "52.996739011732565 128.0\n",
      "164.58462399557578 232.0\n",
      "101.8121095259241 129.0\n",
      "124.90204901344323 118.0\n",
      "306.39742837440843 263.0\n",
      "177.210578644573 77.0\n",
      "64.53965518536921 48.0\n",
      "199.3699876708326 107.0\n",
      "312.8584700619807 140.0\n",
      "59.93974505970251 113.0\n",
      "244.33321475224832 90.0\n",
      "281.60943559920986 164.0\n",
      "183.79816388158173 180.0\n",
      "188.87472783627962 233.0\n",
      "82.7873730651493 42.0\n",
      "134.88087706448673 84.0\n",
      "224.52269722198014 172.0\n",
      "84.22971947921063 63.0\n",
      "64.53965518536921 48.0\n",
      "97.63214055730822 108.0\n",
      "201.49499127364408 156.0\n",
      "139.20663948908432 168.0\n",
      "205.14229080299413 90.0\n",
      "84.22971947921063 52.0\n",
      "33.91066628383802 200.0\n",
      "178.28389902243256 87.0\n",
      "64.53965518536921 90.0\n",
      "212.27996964919961 258.0\n",
      "135.6661406459052 136.0\n",
      "84.22971947921063 158.0\n",
      "178.72873195755653 69.0\n",
      "178.41680385400042 72.0\n",
      "280.97174319075145 171.0\n",
      "139.9868367354686 95.0\n",
      "47.98841634916004 72.0\n",
      "249.05917703591012 151.0\n",
      "48.99110645304687 168.0\n",
      "60.46110441573536 60.0\n",
      "123.3947474515035 122.0\n",
      "182.0901314640156 52.0\n",
      "135.6661406459052 187.0\n",
      "97.63214055730822 102.0\n",
      "163.71564568244466 214.0\n",
      "257.9622507457807 248.0\n",
      "104.19449025361487 181.0\n",
      "111.99481456971682 110.0\n",
      "201.49499127364408 140.0\n",
      "213.12380907482483 202.0\n",
      "213.12380907482483 101.0\n",
      "266.8482524330172 222.0\n",
      "271.886941849499 281.0\n",
      "177.210578644573 61.0\n",
      "75.91613677736642 89.0\n",
      "278.0439772220697 91.0\n",
      "233.82344781120918 186.0\n",
      "248.3820143603933 220.0\n",
      "125.13000071924644 237.0\n",
      "280.25270871792674 233.0\n",
      "53.10844582423162 68.0\n",
      "47.03737581306572 190.0\n",
      "61.62097877224584 96.0\n",
      "45.94348335229669 72.0\n",
      "54.79938233066872 153.0\n",
      "56.6361006223112 98.0\n",
      "78.76025717536587 37.0\n",
      "78.76025717536587 63.0\n",
      "154.04664497078886 184.0\n"
     ]
    }
   ],
   "source": [
    "for inde in range(X_test.shape[0]):\n",
    "    print(wawa.predict(X_test[inde]), y_test[inde])"
   ]
  },
  {
   "cell_type": "markdown",
   "metadata": {},
   "source": [
    "# Diabetes Dataset | Regression"
   ]
  },
  {
   "cell_type": "code",
   "execution_count": 30,
   "metadata": {},
   "outputs": [],
   "source": [
    "from sklearn.datasets import load_diabetes\n",
    "diabetes = load_diabetes(as_frame=True)\n",
    "X, y = diabetes.data.to_numpy(), diabetes.target.to_numpy()\n",
    "\n",
    "from sklearn.model_selection import train_test_split\n",
    "X_train, X_test, y_train, y_test = train_test_split(\n",
    "    X, y, test_size=0.2, random_state=42\n",
    ")"
   ]
  },
  {
   "cell_type": "code",
   "execution_count": null,
   "metadata": {},
   "outputs": [],
   "source": [
    "random_forest = GradientBoostedTreesRegressor(\n",
    "    min_samples_per_node=5,\n",
    "    max_depth=3,\n",
    "    impurity_measure='variance',\n",
    "    # num_targets=2\n",
    ")"
   ]
  },
  {
   "cell_type": "code",
   "execution_count": null,
   "metadata": {},
   "outputs": [],
   "source": [
    "wawa = random_forest.build_forest_legacy(X_train, y_train)"
   ]
  },
  {
   "cell_type": "code",
   "execution_count": null,
   "metadata": {},
   "outputs": [
    {
     "name": "stdout",
     "output_type": "stream",
     "text": [
      "160.4757727211161 219.0\n",
      "186.94316413434063 70.0\n",
      "175.1213509524086 202.0\n",
      "247.58323080428346 230.0\n",
      "101.11792038921075 111.0\n",
      "101.11792038921075 84.0\n",
      "266.8808013178171 242.0\n",
      "212.62977863390248 272.0\n",
      "159.32801761907527 94.0\n",
      "158.57951004963388 96.0\n",
      "101.11792038921075 94.0\n",
      "195.41217220844723 252.0\n",
      "92.36439648969113 99.0\n",
      "247.58323080428346 297.0\n",
      "101.11792038921075 135.0\n",
      "127.83698223958231 67.0\n",
      "221.10582686833737 295.0\n",
      "284.2878568971449 264.0\n",
      "186.94316413434063 170.0\n",
      "220.77630579680272 275.0\n",
      "169.79146791147292 310.0\n",
      "109.86172669551706 64.0\n",
      "92.36439648969113 128.0\n",
      "198.15512199617964 232.0\n",
      "158.57951004963388 129.0\n",
      "178.18964023482096 118.0\n",
      "186.94316413434063 263.0\n",
      "125.69422097469328 77.0\n",
      "92.36439648969113 48.0\n",
      "101.11792038921075 107.0\n",
      "210.85051353874883 140.0\n",
      "92.36439648969113 113.0\n",
      "152.34165958234416 90.0\n",
      "201.56090292024413 164.0\n",
      "152.34165958234416 180.0\n",
      "227.70740740740743 233.0\n",
      "115.51414635504207 42.0\n",
      "122.01672700020336 84.0\n",
      "201.56090292024413 172.0\n",
      "92.36439648969113 63.0\n",
      "92.36439648969113 48.0\n",
      "116.94069707517363 108.0\n",
      "124.25795266134837 156.0\n",
      "153.91081108428745 168.0\n",
      "175.1213509524086 90.0\n",
      "92.36439648969113 52.0\n",
      "92.36439648969113 200.0\n",
      "109.86172669551706 87.0\n",
      "92.36439648969113 90.0\n",
      "175.1213509524086 258.0\n",
      "134.84741472154283 136.0\n",
      "92.36439648969113 158.0\n",
      "134.84741472154283 69.0\n",
      "101.11792038921075 72.0\n",
      "197.42587301587304 171.0\n",
      "164.04450466863278 95.0\n",
      "92.36439648969113 72.0\n",
      "203.32649746767393 151.0\n",
      "101.11792038921075 168.0\n",
      "101.11792038921075 60.0\n",
      "169.36440819869895 122.0\n",
      "179.00451138973378 52.0\n",
      "149.82598615011426 187.0\n",
      "116.95041466838697 102.0\n",
      "115.51414635504207 214.0\n",
      "214.81440103489794 248.0\n",
      "180.76659397715474 181.0\n",
      "175.1213509524086 110.0\n",
      "101.11792038921075 140.0\n",
      "138.1174777509541 202.0\n",
      "195.41217220844723 101.0\n",
      "192.722587243148 222.0\n",
      "227.30131161236423 281.0\n",
      "101.11792038921075 61.0\n",
      "101.10820279599743 89.0\n",
      "153.91081108428745 91.0\n",
      "235.25096243452555 186.0\n",
      "193.2230299082523 220.0\n",
      "186.94316413434063 237.0\n",
      "195.41217220844723 233.0\n",
      "92.36439648969113 68.0\n",
      "101.11792038921075 190.0\n",
      "92.36439648969113 96.0\n",
      "92.36439648969113 72.0\n",
      "101.11792038921075 153.0\n",
      "92.36439648969113 98.0\n",
      "92.36439648969113 37.0\n",
      "92.36439648969113 63.0\n",
      "158.57951004963388 184.0\n"
     ]
    }
   ],
   "source": [
    "for inde in range(X_test.shape[0]):\n",
    "    print(wawa.predict(X_test[inde]), y_test[inde])"
   ]
  },
  {
   "cell_type": "markdown",
   "metadata": {},
   "source": [
    "# Sine Wave | Regression\n",
    "\n",
    "Reference: https://colab.research.google.com/drive/1YY7xaI1rRuVcrS-sCFTnMX5rPf2qFS8v#scrollTo=k-_xGd4vXcjN"
   ]
  },
  {
   "cell_type": "code",
   "execution_count": 31,
   "metadata": {},
   "outputs": [
    {
     "data": {
      "image/png": "[encoded data removed]",
      "text/plain": [
       "<Figure size 640x480 with 1 Axes>"
      ]
     },
     "metadata": {},
     "output_type": "display_data"
    }
   ],
   "source": [
    "np.random.seed(0)\n",
    "import matplotlib.pyplot as plt\n",
    "\n",
    "n_samples = 150\n",
    "\n",
    "X = np.sort(5 * np.random.rand(n_samples, 1), axis=0)\n",
    "y = np.sin(X).ravel()\n",
    "y += np.random.randn(n_samples)*0.1\n",
    "\n",
    "plt.figure()\n",
    "plt.scatter(X, y, color='blue', label='data')\n",
    "plt.title('Sample 2D Data Points with Real-valued Labels')\n",
    "plt.xlabel('X')\n",
    "plt.ylabel('y')\n",
    "plt.legend()\n",
    "plt.show()"
   ]
  },
  {
   "cell_type": "code",
   "execution_count": 32,
   "metadata": {},
   "outputs": [],
   "source": [
    "X_train, X_test, y_train, y_test = train_test_split(X, y, test_size=0.4, random_state=42)"
   ]
  },
  {
   "cell_type": "code",
   "execution_count": 41,
   "metadata": {},
   "outputs": [],
   "source": [
    "random_forest = GradientBoostedTreesRegressor(\n",
    "    num_trees=20,\n",
    "    learning_rate=1e-3,\n",
    "    min_samples_per_node=5,\n",
    "    max_depth=10,\n",
    "    loss_measure='mse',\n",
    "    impurity_measure='variance'\n",
    ").build_forest(X_train, y_train)"
   ]
  },
  {
   "cell_type": "code",
   "execution_count": 42,
   "metadata": {},
   "outputs": [
    {
     "data": {
      "image/png": "[encoded data removed]",
      "text/plain": [
       "<Figure size 640x480 with 1 Axes>"
      ]
     },
     "metadata": {},
     "output_type": "display_data"
    }
   ],
   "source": [
    "X_grid = np.arange(0, 5, 0.01)[:, np.newaxis]\n",
    "y_preds= []\n",
    "for x in X_grid:\n",
    "    y_preds.append(random_forest.predict(x))\n",
    "\n",
    "y_preds = np.array(y_preds)\n",
    "\n",
    "plt.figure()\n",
    "plt.scatter(X_train, y_train, color='blue', label='train data')\n",
    "plt.scatter(X_test, y_test, color='green', label='test data')\n",
    "plt.plot(X_grid, y_preds, color='red', label='random forest regression')\n",
    "plt.title('RandomForestRegressor')\n",
    "plt.xlabel('X')\n",
    "plt.ylabel('y')\n",
    "plt.legend()\n",
    "plt.show()"
   ]
  },
  {
   "cell_type": "code",
   "execution_count": null,
   "metadata": {},
   "outputs": [],
   "source": []
  },
  {
   "cell_type": "code",
   "execution_count": null,
   "metadata": {},
   "outputs": [],
   "source": []
  }
 ],
 "metadata": {
  "kernelspec": {
   "display_name": "base",
   "language": "python",
   "name": "python3"
  },
  "language_info": {
   "codemirror_mode": {
    "name": "ipython",
    "version": 3
   },
   "file_extension": ".py",
   "mimetype": "text/x-python",
   "name": "python",
   "nbconvert_exporter": "python",
   "pygments_lexer": "ipython3",
   "version": "3.12.4"
  }
 },
 "nbformat": 4,
 "nbformat_minor": 2
}
